{
 "cells": [
  {
   "cell_type": "code",
   "execution_count": 156,
   "metadata": {},
   "outputs": [],
   "source": [
    "import numpy as np\n",
    "import pandas as pd\n",
    "import matplotlib.pyplot as plt\n",
    "from sklearn.model_selection import train_test_split\n",
    "from sklearn.feature_extraction.text import TfidfVectorizer\n",
    "from sklearn.linear_model import LogisticRegression\n",
    "from sklearn.metrics import accuracy_score\n",
    "from sklearn.preprocessing import LabelEncoder\n",
    "import pickle\n"
   ]
  },
  {
   "cell_type": "code",
   "execution_count": 157,
   "metadata": {},
   "outputs": [
    {
     "data": {
      "text/html": [
       "<div>\n",
       "<style scoped>\n",
       "    .dataframe tbody tr th:only-of-type {\n",
       "        vertical-align: middle;\n",
       "    }\n",
       "\n",
       "    .dataframe tbody tr th {\n",
       "        vertical-align: top;\n",
       "    }\n",
       "\n",
       "    .dataframe thead th {\n",
       "        text-align: right;\n",
       "    }\n",
       "</style>\n",
       "<table border=\"1\" class=\"dataframe\">\n",
       "  <thead>\n",
       "    <tr style=\"text-align: right;\">\n",
       "      <th></th>\n",
       "      <th>Unnamed: 0</th>\n",
       "      <th>label</th>\n",
       "      <th>text</th>\n",
       "      <th>label_num</th>\n",
       "    </tr>\n",
       "  </thead>\n",
       "  <tbody>\n",
       "    <tr>\n",
       "      <th>0</th>\n",
       "      <td>605</td>\n",
       "      <td>ham</td>\n",
       "      <td>Subject: enron methanol ; meter # : 988291\\r\\n...</td>\n",
       "      <td>0</td>\n",
       "    </tr>\n",
       "    <tr>\n",
       "      <th>1</th>\n",
       "      <td>2349</td>\n",
       "      <td>ham</td>\n",
       "      <td>Subject: hpl nom for january 9 , 2001\\r\\n( see...</td>\n",
       "      <td>0</td>\n",
       "    </tr>\n",
       "    <tr>\n",
       "      <th>2</th>\n",
       "      <td>3624</td>\n",
       "      <td>ham</td>\n",
       "      <td>Subject: neon retreat\\r\\nho ho ho , we ' re ar...</td>\n",
       "      <td>0</td>\n",
       "    </tr>\n",
       "    <tr>\n",
       "      <th>3</th>\n",
       "      <td>4685</td>\n",
       "      <td>spam</td>\n",
       "      <td>Subject: photoshop , windows , office . cheap ...</td>\n",
       "      <td>1</td>\n",
       "    </tr>\n",
       "    <tr>\n",
       "      <th>4</th>\n",
       "      <td>2030</td>\n",
       "      <td>ham</td>\n",
       "      <td>Subject: re : indian springs\\r\\nthis deal is t...</td>\n",
       "      <td>0</td>\n",
       "    </tr>\n",
       "  </tbody>\n",
       "</table>\n",
       "</div>"
      ],
      "text/plain": [
       "   Unnamed: 0 label                                               text  \\\n",
       "0         605   ham  Subject: enron methanol ; meter # : 988291\\r\\n...   \n",
       "1        2349   ham  Subject: hpl nom for january 9 , 2001\\r\\n( see...   \n",
       "2        3624   ham  Subject: neon retreat\\r\\nho ho ho , we ' re ar...   \n",
       "3        4685  spam  Subject: photoshop , windows , office . cheap ...   \n",
       "4        2030   ham  Subject: re : indian springs\\r\\nthis deal is t...   \n",
       "\n",
       "   label_num  \n",
       "0          0  \n",
       "1          0  \n",
       "2          0  \n",
       "3          1  \n",
       "4          0  "
      ]
     },
     "execution_count": 157,
     "metadata": {},
     "output_type": "execute_result"
    }
   ],
   "source": [
    "spam_mail_1=pd.read_csv(\"spam_ham_dataset.csv\")\n",
    "spam_mail_1.head()"
   ]
  },
  {
   "cell_type": "code",
   "execution_count": 158,
   "metadata": {},
   "outputs": [],
   "source": [
    "columns_to_delete = ['Unnamed: 0', 'label_num']\n",
    "spam_mail_1 = spam_mail_1.drop(columns=columns_to_delete)\n",
    "string_to_delete = 'Subject:'\n",
    "spam_mail_1['text'] = spam_mail_1['text'].str.replace(string_to_delete, '')"
   ]
  },
  {
   "cell_type": "code",
   "execution_count": 159,
   "metadata": {},
   "outputs": [
    {
     "data": {
      "text/html": [
       "<div>\n",
       "<style scoped>\n",
       "    .dataframe tbody tr th:only-of-type {\n",
       "        vertical-align: middle;\n",
       "    }\n",
       "\n",
       "    .dataframe tbody tr th {\n",
       "        vertical-align: top;\n",
       "    }\n",
       "\n",
       "    .dataframe thead th {\n",
       "        text-align: right;\n",
       "    }\n",
       "</style>\n",
       "<table border=\"1\" class=\"dataframe\">\n",
       "  <thead>\n",
       "    <tr style=\"text-align: right;\">\n",
       "      <th></th>\n",
       "      <th>label</th>\n",
       "      <th>text</th>\n",
       "    </tr>\n",
       "  </thead>\n",
       "  <tbody>\n",
       "    <tr>\n",
       "      <th>0</th>\n",
       "      <td>ham</td>\n",
       "      <td>Go until jurong point, crazy.. Available only ...</td>\n",
       "    </tr>\n",
       "    <tr>\n",
       "      <th>1</th>\n",
       "      <td>ham</td>\n",
       "      <td>Ok lar... Joking wif u oni...</td>\n",
       "    </tr>\n",
       "    <tr>\n",
       "      <th>2</th>\n",
       "      <td>spam</td>\n",
       "      <td>Free entry in 2 a wkly comp to win FA Cup fina...</td>\n",
       "    </tr>\n",
       "    <tr>\n",
       "      <th>3</th>\n",
       "      <td>ham</td>\n",
       "      <td>U dun say so early hor... U c already then say...</td>\n",
       "    </tr>\n",
       "    <tr>\n",
       "      <th>4</th>\n",
       "      <td>ham</td>\n",
       "      <td>Nah I don't think he goes to usf, he lives aro...</td>\n",
       "    </tr>\n",
       "  </tbody>\n",
       "</table>\n",
       "</div>"
      ],
      "text/plain": [
       "  label                                               text\n",
       "0   ham  Go until jurong point, crazy.. Available only ...\n",
       "1   ham                      Ok lar... Joking wif u oni...\n",
       "2  spam  Free entry in 2 a wkly comp to win FA Cup fina...\n",
       "3   ham  U dun say so early hor... U c already then say...\n",
       "4   ham  Nah I don't think he goes to usf, he lives aro..."
      ]
     },
     "execution_count": 159,
     "metadata": {},
     "output_type": "execute_result"
    }
   ],
   "source": [
    "spam_mail_2 = pd.read_csv(\"spam_and_ham_file_2.csv\",encoding='ISO-8859-1')\n",
    "columns_delete = ['Unnamed: 2'\t,'Unnamed: 3'\t,'Unnamed: 4']\n",
    "spam_mail_2= spam_mail_2.drop(columns=columns_delete)\n",
    "spam_mail_2.rename(columns={'v1':'label','v2':'text'},inplace=True)\n",
    "spam_mail_2.head()"
   ]
  },
  {
   "cell_type": "code",
   "execution_count": 160,
   "metadata": {},
   "outputs": [
    {
     "data": {
      "text/html": [
       "<div>\n",
       "<style scoped>\n",
       "    .dataframe tbody tr th:only-of-type {\n",
       "        vertical-align: middle;\n",
       "    }\n",
       "\n",
       "    .dataframe tbody tr th {\n",
       "        vertical-align: top;\n",
       "    }\n",
       "\n",
       "    .dataframe thead th {\n",
       "        text-align: right;\n",
       "    }\n",
       "</style>\n",
       "<table border=\"1\" class=\"dataframe\">\n",
       "  <thead>\n",
       "    <tr style=\"text-align: right;\">\n",
       "      <th></th>\n",
       "      <th>label</th>\n",
       "      <th>text</th>\n",
       "    </tr>\n",
       "  </thead>\n",
       "  <tbody>\n",
       "    <tr>\n",
       "      <th>0</th>\n",
       "      <td>ham</td>\n",
       "      <td>enron methanol ; meter # : 988291\\r\\nthis is ...</td>\n",
       "    </tr>\n",
       "    <tr>\n",
       "      <th>1</th>\n",
       "      <td>ham</td>\n",
       "      <td>hpl nom for january 9 , 2001\\r\\n( see attache...</td>\n",
       "    </tr>\n",
       "    <tr>\n",
       "      <th>2</th>\n",
       "      <td>ham</td>\n",
       "      <td>neon retreat\\r\\nho ho ho , we ' re around to ...</td>\n",
       "    </tr>\n",
       "    <tr>\n",
       "      <th>3</th>\n",
       "      <td>spam</td>\n",
       "      <td>photoshop , windows , office . cheap . main t...</td>\n",
       "    </tr>\n",
       "    <tr>\n",
       "      <th>4</th>\n",
       "      <td>ham</td>\n",
       "      <td>re : indian springs\\r\\nthis deal is to book t...</td>\n",
       "    </tr>\n",
       "    <tr>\n",
       "      <th>5</th>\n",
       "      <td>ham</td>\n",
       "      <td>ehronline web address change\\r\\nthis message ...</td>\n",
       "    </tr>\n",
       "    <tr>\n",
       "      <th>6</th>\n",
       "      <td>ham</td>\n",
       "      <td>spring savings certificate - take 30 % off\\r\\...</td>\n",
       "    </tr>\n",
       "    <tr>\n",
       "      <th>7</th>\n",
       "      <td>spam</td>\n",
       "      <td>looking for medication ? we ` re the best sou...</td>\n",
       "    </tr>\n",
       "    <tr>\n",
       "      <th>8</th>\n",
       "      <td>ham</td>\n",
       "      <td>noms / actual flow for 2 / 26\\r\\nwe agree\\r\\n...</td>\n",
       "    </tr>\n",
       "    <tr>\n",
       "      <th>9</th>\n",
       "      <td>ham</td>\n",
       "      <td>nominations for oct . 21 - 23 , 2000\\r\\n( see...</td>\n",
       "    </tr>\n",
       "  </tbody>\n",
       "</table>\n",
       "</div>"
      ],
      "text/plain": [
       "  label                                               text\n",
       "0   ham   enron methanol ; meter # : 988291\\r\\nthis is ...\n",
       "1   ham   hpl nom for january 9 , 2001\\r\\n( see attache...\n",
       "2   ham   neon retreat\\r\\nho ho ho , we ' re around to ...\n",
       "3  spam   photoshop , windows , office . cheap . main t...\n",
       "4   ham   re : indian springs\\r\\nthis deal is to book t...\n",
       "5   ham   ehronline web address change\\r\\nthis message ...\n",
       "6   ham   spring savings certificate - take 30 % off\\r\\...\n",
       "7  spam   looking for medication ? we ` re the best sou...\n",
       "8   ham   noms / actual flow for 2 / 26\\r\\nwe agree\\r\\n...\n",
       "9   ham   nominations for oct . 21 - 23 , 2000\\r\\n( see..."
      ]
     },
     "execution_count": 160,
     "metadata": {},
     "output_type": "execute_result"
    }
   ],
   "source": [
    "mail_spam = pd.concat([spam_mail_1, spam_mail_2], ignore_index=True)\n",
    "\n",
    "# Save the merged dataframe to a new CSV file\n",
    "mail_spam.to_csv('merged_file.csv', index=False)\n",
    "mail_spam.head(10)"
   ]
  },
  {
   "cell_type": "code",
   "execution_count": 161,
   "metadata": {},
   "outputs": [
    {
     "name": "stdout",
     "output_type": "stream",
     "text": [
      "(10743, 2)\n"
     ]
    }
   ],
   "source": [
    "print(mail_spam.shape)\n"
   ]
  },
  {
   "cell_type": "code",
   "execution_count": 162,
   "metadata": {},
   "outputs": [],
   "source": [
    "mail_spam.loc[mail_spam['label'] == 'spam', 'label'] = 0\n",
    "mail_spam.loc[mail_spam['label'] == 'ham', 'label'] = 1\n"
   ]
  },
  {
   "cell_type": "code",
   "execution_count": 163,
   "metadata": {},
   "outputs": [],
   "source": [
    "X = mail_spam['text']\n",
    "Y = mail_spam['label']\n"
   ]
  },
  {
   "cell_type": "code",
   "execution_count": 164,
   "metadata": {},
   "outputs": [
    {
     "name": "stdout",
     "output_type": "stream",
     "text": [
      "0         enron methanol ; meter # : 988291\\r\\nthis is ...\n",
      "1         hpl nom for january 9 , 2001\\r\\n( see attache...\n",
      "2         neon retreat\\r\\nho ho ho , we ' re around to ...\n",
      "3         photoshop , windows , office . cheap . main t...\n",
      "4         re : indian springs\\r\\nthis deal is to book t...\n",
      "                               ...                        \n",
      "10738    This is the 2nd time we have tried 2 contact u...\n",
      "10739                Will Ì_ b going to esplanade fr home?\n",
      "10740    Pity, * was in mood for that. So...any other s...\n",
      "10741    The guy did some bitching but I acted like i'd...\n",
      "10742                           Rofl. Its true to its name\n",
      "Name: text, Length: 10743, dtype: object\n",
      "0        1\n",
      "1        1\n",
      "2        1\n",
      "3        0\n",
      "4        1\n",
      "        ..\n",
      "10738    0\n",
      "10739    1\n",
      "10740    1\n",
      "10741    1\n",
      "10742    1\n",
      "Name: label, Length: 10743, dtype: object\n"
     ]
    }
   ],
   "source": [
    "print(X)\n",
    "print(Y)\n"
   ]
  },
  {
   "cell_type": "code",
   "execution_count": 165,
   "metadata": {},
   "outputs": [
    {
     "name": "stdout",
     "output_type": "stream",
     "text": [
      "(10743,)\n",
      "(8594,)\n",
      "(2149,)\n"
     ]
    }
   ],
   "source": [
    "X_train, X_test, Y_train, Y_test = train_test_split(X, Y, test_size=0.2, random_state=3)\n",
    "print(X.shape)\n",
    "print(X_train.shape)\n",
    "print(X_test.shape)\n"
   ]
  },
  {
   "cell_type": "code",
   "execution_count": 166,
   "metadata": {},
   "outputs": [],
   "source": [
    "feature_extraction = TfidfVectorizer(min_df=1, stop_words='english', lowercase=True)\n",
    "X_train_features = feature_extraction.fit_transform(X_train)\n",
    "X_test_features = feature_extraction.transform(X_test)\n"
   ]
  },
  {
   "cell_type": "code",
   "execution_count": 167,
   "metadata": {},
   "outputs": [
    {
     "name": "stdout",
     "output_type": "stream",
     "text": [
      "  (0, 10873)\t0.38639297850007875\n",
      "  (0, 40245)\t0.5488891460253681\n",
      "  (0, 28152)\t0.41220216197916565\n",
      "  (0, 7227)\t0.3328909671109456\n",
      "  (0, 14638)\t0.5183571676142048\n",
      "  (1, 43034)\t0.7152493988479114\n",
      "  (1, 34916)\t0.5547664531127566\n",
      "  (1, 47188)\t0.4250323281215124\n",
      "  (2, 3091)\t0.12038608795771522\n",
      "  (2, 40879)\t0.09774696804359528\n",
      "  (2, 42490)\t0.0460021610718902\n",
      "  (2, 41951)\t0.09479730699682565\n",
      "  (2, 22577)\t0.06493981871494267\n",
      "  (2, 18540)\t0.10185525321978332\n",
      "  (2, 1030)\t0.1453661254089218\n",
      "  (2, 1031)\t0.1453661254089218\n",
      "  (2, 44517)\t0.07856286049883575\n",
      "  (2, 31626)\t0.06455231251416364\n",
      "  (2, 31067)\t0.05424703767368687\n",
      "  (2, 968)\t0.1453661254089218\n",
      "  (2, 7456)\t0.10823248441839244\n",
      "  (2, 14308)\t0.07192395583851699\n",
      "  (2, 35438)\t0.11409287620505981\n",
      "  (2, 45355)\t0.06502726103036724\n",
      "  (2, 39650)\t0.39670139531127985\n",
      "  :\t:\n",
      "  (8592, 23603)\t0.06850589345454271\n",
      "  (8592, 45578)\t0.05893273398125851\n",
      "  (8592, 39685)\t0.04991478553044328\n",
      "  (8592, 17851)\t0.06599907063306798\n",
      "  (8592, 29391)\t0.033728512544364334\n",
      "  (8593, 240)\t0.21912464860951308\n",
      "  (8593, 47500)\t0.20498528725276555\n",
      "  (8593, 34350)\t0.19863552802110107\n",
      "  (8593, 31355)\t0.21912464860951308\n",
      "  (8593, 11575)\t0.5959065840633032\n",
      "  (8593, 28300)\t0.21912464860951308\n",
      "  (8593, 29965)\t0.17183133069723797\n",
      "  (8593, 40190)\t0.17492902481633218\n",
      "  (8593, 5927)\t0.21912464860951308\n",
      "  (8593, 1645)\t0.20161145711163714\n",
      "  (8593, 3838)\t0.18409826561376116\n",
      "  (8593, 30172)\t0.18747209575488957\n",
      "  (8593, 35064)\t0.16094708574157643\n",
      "  (8593, 43065)\t0.15853896019851108\n",
      "  (8593, 34330)\t0.18256651212599564\n",
      "  (8593, 44442)\t0.22789399163027138\n",
      "  (8593, 11766)\t0.16224307209535546\n",
      "  (8593, 43842)\t0.13021340485895838\n",
      "  (8593, 42249)\t0.12266558634473847\n",
      "  (8593, 30921)\t0.08316602379081357\n"
     ]
    }
   ],
   "source": [
    "print(X_train_features)\n"
   ]
  },
  {
   "cell_type": "code",
   "execution_count": 168,
   "metadata": {},
   "outputs": [],
   "source": [
    "label_encoder = LabelEncoder()\n",
    "Y_train = label_encoder.fit_transform(Y_train)\n",
    "Y_test = label_encoder.transform(Y_test)\n"
   ]
  },
  {
   "cell_type": "code",
   "execution_count": 169,
   "metadata": {},
   "outputs": [
    {
     "data": {
      "text/html": [
       "<style>#sk-container-id-9 {color: black;}#sk-container-id-9 pre{padding: 0;}#sk-container-id-9 div.sk-toggleable {background-color: white;}#sk-container-id-9 label.sk-toggleable__label {cursor: pointer;display: block;width: 100%;margin-bottom: 0;padding: 0.3em;box-sizing: border-box;text-align: center;}#sk-container-id-9 label.sk-toggleable__label-arrow:before {content: \"▸\";float: left;margin-right: 0.25em;color: #696969;}#sk-container-id-9 label.sk-toggleable__label-arrow:hover:before {color: black;}#sk-container-id-9 div.sk-estimator:hover label.sk-toggleable__label-arrow:before {color: black;}#sk-container-id-9 div.sk-toggleable__content {max-height: 0;max-width: 0;overflow: hidden;text-align: left;background-color: #f0f8ff;}#sk-container-id-9 div.sk-toggleable__content pre {margin: 0.2em;color: black;border-radius: 0.25em;background-color: #f0f8ff;}#sk-container-id-9 input.sk-toggleable__control:checked~div.sk-toggleable__content {max-height: 200px;max-width: 100%;overflow: auto;}#sk-container-id-9 input.sk-toggleable__control:checked~label.sk-toggleable__label-arrow:before {content: \"▾\";}#sk-container-id-9 div.sk-estimator input.sk-toggleable__control:checked~label.sk-toggleable__label {background-color: #d4ebff;}#sk-container-id-9 div.sk-label input.sk-toggleable__control:checked~label.sk-toggleable__label {background-color: #d4ebff;}#sk-container-id-9 input.sk-hidden--visually {border: 0;clip: rect(1px 1px 1px 1px);clip: rect(1px, 1px, 1px, 1px);height: 1px;margin: -1px;overflow: hidden;padding: 0;position: absolute;width: 1px;}#sk-container-id-9 div.sk-estimator {font-family: monospace;background-color: #f0f8ff;border: 1px dotted black;border-radius: 0.25em;box-sizing: border-box;margin-bottom: 0.5em;}#sk-container-id-9 div.sk-estimator:hover {background-color: #d4ebff;}#sk-container-id-9 div.sk-parallel-item::after {content: \"\";width: 100%;border-bottom: 1px solid gray;flex-grow: 1;}#sk-container-id-9 div.sk-label:hover label.sk-toggleable__label {background-color: #d4ebff;}#sk-container-id-9 div.sk-serial::before {content: \"\";position: absolute;border-left: 1px solid gray;box-sizing: border-box;top: 0;bottom: 0;left: 50%;z-index: 0;}#sk-container-id-9 div.sk-serial {display: flex;flex-direction: column;align-items: center;background-color: white;padding-right: 0.2em;padding-left: 0.2em;position: relative;}#sk-container-id-9 div.sk-item {position: relative;z-index: 1;}#sk-container-id-9 div.sk-parallel {display: flex;align-items: stretch;justify-content: center;background-color: white;position: relative;}#sk-container-id-9 div.sk-item::before, #sk-container-id-9 div.sk-parallel-item::before {content: \"\";position: absolute;border-left: 1px solid gray;box-sizing: border-box;top: 0;bottom: 0;left: 50%;z-index: -1;}#sk-container-id-9 div.sk-parallel-item {display: flex;flex-direction: column;z-index: 1;position: relative;background-color: white;}#sk-container-id-9 div.sk-parallel-item:first-child::after {align-self: flex-end;width: 50%;}#sk-container-id-9 div.sk-parallel-item:last-child::after {align-self: flex-start;width: 50%;}#sk-container-id-9 div.sk-parallel-item:only-child::after {width: 0;}#sk-container-id-9 div.sk-dashed-wrapped {border: 1px dashed gray;margin: 0 0.4em 0.5em 0.4em;box-sizing: border-box;padding-bottom: 0.4em;background-color: white;}#sk-container-id-9 div.sk-label label {font-family: monospace;font-weight: bold;display: inline-block;line-height: 1.2em;}#sk-container-id-9 div.sk-label-container {text-align: center;}#sk-container-id-9 div.sk-container {/* jupyter's `normalize.less` sets `[hidden] { display: none; }` but bootstrap.min.css set `[hidden] { display: none !important; }` so we also need the `!important` here to be able to override the default hidden behavior on the sphinx rendered scikit-learn.org. See: https://github.com/scikit-learn/scikit-learn/issues/21755 */display: inline-block !important;position: relative;}#sk-container-id-9 div.sk-text-repr-fallback {display: none;}</style><div id=\"sk-container-id-9\" class=\"sk-top-container\"><div class=\"sk-text-repr-fallback\"><pre>LogisticRegression()</pre><b>In a Jupyter environment, please rerun this cell to show the HTML representation or trust the notebook. <br />On GitHub, the HTML representation is unable to render, please try loading this page with nbviewer.org.</b></div><div class=\"sk-container\" hidden><div class=\"sk-item\"><div class=\"sk-estimator sk-toggleable\"><input class=\"sk-toggleable__control sk-hidden--visually\" id=\"sk-estimator-id-9\" type=\"checkbox\" checked><label for=\"sk-estimator-id-9\" class=\"sk-toggleable__label sk-toggleable__label-arrow\">LogisticRegression</label><div class=\"sk-toggleable__content\"><pre>LogisticRegression()</pre></div></div></div></div></div>"
      ],
      "text/plain": [
       "LogisticRegression()"
      ]
     },
     "execution_count": 169,
     "metadata": {},
     "output_type": "execute_result"
    }
   ],
   "source": [
    "model = LogisticRegression()\n",
    "model.fit(X_train_features, Y_train)\n"
   ]
  },
  {
   "cell_type": "code",
   "execution_count": 170,
   "metadata": {},
   "outputs": [
    {
     "name": "stdout",
     "output_type": "stream",
     "text": [
      "Accuracy on training data =  0.9547358622294624\n"
     ]
    }
   ],
   "source": [
    "prediction_on_training_data = model.predict(X_train_features)\n",
    "accuracy_score_of_data = accuracy_score(Y_train, prediction_on_training_data)\n",
    "print('Accuracy on training data = ', accuracy_score_of_data)\n"
   ]
  },
  {
   "cell_type": "code",
   "execution_count": 171,
   "metadata": {},
   "outputs": [
    {
     "name": "stdout",
     "output_type": "stream",
     "text": [
      "Accuracy on test data =  0.937645416472778\n"
     ]
    }
   ],
   "source": [
    "# Use the already trained model for predictions on the test set\n",
    "prediction_on_test_data = model.predict(X_test_features)\n",
    "accuracy_score_on_test_data = accuracy_score(Y_test, prediction_on_test_data)\n",
    "print('Accuracy on test data = ', accuracy_score_on_test_data)\n"
   ]
  },
  {
   "cell_type": "code",
   "execution_count": 172,
   "metadata": {},
   "outputs": [],
   "source": [
    "with open('model.pkl', 'wb') as f:\n",
    "    pickle.dump(model, f)\n",
    "    \n",
    "# Save the TfidfVectorizer instance\n",
    "with open('tfidf_vectorizer.pkl', 'wb') as vectorizer_file:\n",
    "    pickle.dump(feature_extraction, vectorizer_file)    "
   ]
  },
  {
   "cell_type": "code",
   "execution_count": 173,
   "metadata": {},
   "outputs": [
    {
     "data": {
      "text/plain": [
       "'# Assuming you have already defined the \\'feature_extraction\\' and \\'model\\' objects\\n\\n# Example input mail\\ninput_mail = \"ehronline web address change this message is intended for ehronline users only  \"\\ninput_data_feature = feature_extraction.transform([input_mail])\\n\\n# Make a prediction using the trained model\\nprediction = model.predict(input_data_feature)\\n\\n# Display the prediction\\nprint(\"Predicted class:\", prediction)\\n\\nif prediction[0] == 0:\\n    print(\"This mail is a spam mail.\")\\nelse:\\n    print(\"This is not a spam mail.\")\\n    '"
      ]
     },
     "execution_count": 173,
     "metadata": {},
     "output_type": "execute_result"
    }
   ],
   "source": [
    "'''# Assuming you have already defined the 'feature_extraction' and 'model' objects\n",
    "\n",
    "# Example input mail\n",
    "input_mail = \"ehronline web address change this message is intended for ehronline users only  \"\n",
    "input_data_feature = feature_extraction.transform([input_mail])\n",
    "\n",
    "# Make a prediction using the trained model\n",
    "prediction = model.predict(input_data_feature)\n",
    "\n",
    "# Display the prediction\n",
    "print(\"Predicted class:\", prediction)\n",
    "\n",
    "if prediction[0] == 0:\n",
    "    print(\"This mail is a spam mail.\")\n",
    "else:\n",
    "    print(\"This is not a spam mail.\")\n",
    "    '''\n"
   ]
  }
 ],
 "metadata": {
  "kernelspec": {
   "display_name": "Python 3",
   "language": "python",
   "name": "python3"
  },
  "language_info": {
   "codemirror_mode": {
    "name": "ipython",
    "version": 3
   },
   "file_extension": ".py",
   "mimetype": "text/x-python",
   "name": "python",
   "nbconvert_exporter": "python",
   "pygments_lexer": "ipython3",
   "version": "3.11.3"
  }
 },
 "nbformat": 4,
 "nbformat_minor": 2
}
